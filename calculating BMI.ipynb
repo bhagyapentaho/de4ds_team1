{
 "cells": [
  {
   "cell_type": "code",
   "execution_count": 11,
   "metadata": {},
   "outputs": [
    {
     "name": "stdout",
     "output_type": "stream",
     "text": [
      "weight in kg : 55.5\n",
      "height in cm : 150\n",
      "BMI is 24.666666666666668\n"
     ]
    }
   ],
   "source": [
    "w=float(input(\"weight in kg : \"))\n",
    "h=float(input(\"height in cm : \"))\n",
    "bmi=(w/(h/100)**2)\n",
    "print(\"BMI is\",bmi)"
   ]
  },
  {
   "cell_type": "markdown",
   "metadata": {},
   "source": [
    "# Prg 1 for calculating BMI"
   ]
  },
  {
   "cell_type": "code",
   "execution_count": 22,
   "metadata": {},
   "outputs": [
    {
     "name": "stdout",
     "output_type": "stream",
     "text": [
      "Here with we are going to calucate the bmi of the person \n",
      "BMI == kg / m2 ** m = height to meter into square \n",
      "enter your weight in kgs = 55.5\n",
      "enter the  height in cm = 150\n",
      "bmi 24.67 you are healthy\n",
      "have a good health \n"
     ]
    }
   ],
   "source": [
    "print(\"Here with we are going to calucate the bmi of the person \")\n",
    "\n",
    "print(\"BMI == kg / m2 ** m = height to meter into square \")\n",
    "\n",
    "W= float(input(\"enter your weight in kgs = \"))\n",
    "\n",
    "H= float(input(\"enter the  height in cm = \"))\n",
    "\n",
    "bmi = (W/(H/100)**2)\n",
    "\n",
    "bmi= round((bmi),2)\n",
    "\n",
    "if  bmi > 25 :\n",
    "    print(\"bmi\", bmi , \"you are over weighted \")\n",
    "\n",
    "elif bmi < 18 :\n",
    "    print(\"bmi\", bmi , \"your are underweighted \")\n",
    "else : \n",
    "    bmi > 18 and bmi < 25\n",
    "    print(\"bmi\", bmi ,\"you are healthy\")\n",
    "\n",
    "    print(\"have a good health \")"
   ]
  },
  {
   "cell_type": "code",
   "execution_count": 58,
   "metadata": {},
   "outputs": [
    {
     "name": "stdout",
     "output_type": "stream",
     "text": [
      "no. of school shoes : 8\n",
      "no. of party shoes : 9\n",
      "Total pairs of shoes I have :  17\n"
     ]
    }
   ],
   "source": [
    "s = int(input(\"no. of school shoes : \")) \n",
    "p = int(input(\"no. of party shoes : \"))\n",
    "\n",
    "def total(s,p) :\n",
    "    return s+p \n",
    "\n",
    "print(\"Total pairs of shoes I have : \" ,total(s,p))"
   ]
  },
  {
   "cell_type": "code",
   "execution_count": 31,
   "metadata": {},
   "outputs": [
    {
     "data": {
      "text/plain": [
       "12"
      ]
     },
     "execution_count": 31,
     "metadata": {},
     "output_type": "execute_result"
    }
   ],
   "source": [
    "total(5,7)"
   ]
  },
  {
   "cell_type": "code",
   "execution_count": null,
   "metadata": {},
   "outputs": [],
   "source": []
  }
 ],
 "metadata": {
  "kernelspec": {
   "display_name": "Python 3",
   "language": "python",
   "name": "python3"
  },
  "language_info": {
   "codemirror_mode": {
    "name": "ipython",
    "version": 3
   },
   "file_extension": ".py",
   "mimetype": "text/x-python",
   "name": "python",
   "nbconvert_exporter": "python",
   "pygments_lexer": "ipython3",
   "version": "3.8.5"
  }
 },
 "nbformat": 4,
 "nbformat_minor": 4
}
