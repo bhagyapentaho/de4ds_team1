{
 "cells": [
  {
   "cell_type": "markdown",
   "metadata": {},
   "source": [
    "# Program to calculate BMI"
   ]
  },
  {
   "cell_type": "code",
   "execution_count": 21,
   "metadata": {},
   "outputs": [
    {
     "name": "stdout",
     "output_type": "stream",
     "text": [
      "please enter your weight in kgs67\n",
      "please enter your height in cms167\n",
      "My Bmi is  24.023808670084982\n",
      "You are healthy.\n"
     ]
    }
   ],
   "source": [
    "def cal_bmi():\n",
    "    \n",
    "    Weight=float(input('please enter your weight in kgs'))\n",
    "    Height=float(input('please enter your height in cms'))\n",
    "    BMI=Weight/(Height/100)**2\n",
    "    print('My Bmi is ',BMI )\n",
    "    if BMI <= 18.4:\n",
    "        print(\"You are underweight.\")\n",
    "    elif BMI <= 24.9:\n",
    "        print(\"You are healthy.\")\n",
    "    elif BMI <= 29.9:\n",
    "        print(\"You are over weight.\")\n",
    "    elif BMI <= 34.9:\n",
    "        print(\"You are severely over weight.\")\n",
    "    elif BMI <= 39.9:\n",
    "        print(\"You are obese.\")\n",
    "    else:\n",
    "        print(\"You are severely obese.\")\n",
    "    \n",
    "    \n",
    "cal_bmi()"
   ]
  },
  {
   "cell_type": "code",
   "execution_count": null,
   "metadata": {},
   "outputs": [],
   "source": [
    "#Checking the temperatures"
   ]
  },
  {
   "cell_type": "code",
   "execution_count": 18,
   "metadata": {},
   "outputs": [
    {
     "name": "stdout",
     "output_type": "stream",
     "text": [
      "what the temperature today25\n",
      "its very hot, i need an icecream\n"
     ]
    }
   ],
   "source": [
    "temp_today=int(input('what the temperature today'))\n",
    "if temp_today <= -1:\n",
    "    print('freezing temperatures, stay at home and be warm')\n",
    "elif temp_today > 1 and temp_today < 10:\n",
    "    print('its low temperatures enjoy the cold')\n",
    "elif temp_today > 10 and temp_today < 20:\n",
    "    print('ohh wow the temperature is increasing lets enjoy')\n",
    "elif temp_today > 20 and temp_today < 40:\n",
    "    print('its very hot, i need an icecream')\n",
    "elif temp_today > 40:\n",
    "    print('i think im getting roasted')"
   ]
  },
  {
   "cell_type": "code",
   "execution_count": null,
   "metadata": {},
   "outputs": [],
   "source": []
  },
  {
   "cell_type": "code",
   "execution_count": 22,
   "metadata": {},
   "outputs": [
    {
     "name": "stdout",
     "output_type": "stream",
     "text": [
      "please enter your weight in kgs60\n",
      "please enter your height in cms170\n",
      "My Bmi is  20.761245674740486\n",
      "You are healthy.\n"
     ]
    }
   ],
   "source": [
    "cal_bmi()"
   ]
  },
  {
   "cell_type": "code",
   "execution_count": null,
   "metadata": {},
   "outputs": [],
   "source": []
  }
 ],
 "metadata": {
  "kernelspec": {
   "display_name": "Python 3",
   "language": "python",
   "name": "python3"
  },
  "language_info": {
   "codemirror_mode": {
    "name": "ipython",
    "version": 3
   },
   "file_extension": ".py",
   "mimetype": "text/x-python",
   "name": "python",
   "nbconvert_exporter": "python",
   "pygments_lexer": "ipython3",
   "version": "3.8.5"
  }
 },
 "nbformat": 4,
 "nbformat_minor": 4
}
